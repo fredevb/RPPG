{
 "cells": [
  {
   "cell_type": "code",
   "execution_count": 1,
   "metadata": {},
   "outputs": [],
   "source": [
    "from project_handlers.project_info import ProjectInfo\n",
    "from project_handlers.project_data_handler import ProjectDataHandler\n",
    "from project_handlers.project_model_handler import ProjectModelHandler\n",
    "import matplotlib.pyplot as plt\n",
    "from torch.utils.data import DataLoader\n",
    "import numpy as np\n",
    "from utils.plotting import plt_relation\n",
    "from utils.evaluation import get_evaluation_df, get_results\n",
    "import pandas as pd\n",
    "import torch\n",
    "import warnings\n",
    "from torchvision import transforms\n",
    "from lib.models.rppg_transforms import RollingNormalize, RPPGDetrend"
   ]
  },
  {
   "cell_type": "code",
   "execution_count": 2,
   "metadata": {},
   "outputs": [],
   "source": [
    "dataset_names = ['small']\n",
    "model_names = ['ica']"
   ]
  },
  {
   "cell_type": "code",
   "execution_count": 3,
   "metadata": {},
   "outputs": [],
   "source": [
    "info = ProjectInfo()\n",
    "t_size = info.t_size\n",
    "data_root = info.data_root\n",
    "model_root = info.model_root\n",
    "sampling_rate = info.sampling_rate"
   ]
  },
  {
   "cell_type": "code",
   "execution_count": 4,
   "metadata": {},
   "outputs": [],
   "source": [
    "data_handler = ProjectDataHandler(data_root)\n",
    "model_handler = ProjectModelHandler(model_root, sampling_rate)"
   ]
  },
  {
   "cell_type": "code",
   "execution_count": 5,
   "metadata": {},
   "outputs": [],
   "source": [
    "rppg_transform = transforms.Compose([RollingNormalize(100), RPPGDetrend()])"
   ]
  },
  {
   "cell_type": "code",
   "execution_count": 6,
   "metadata": {},
   "outputs": [],
   "source": [
    "warnings.filterwarnings(\"ignore\")"
   ]
  },
  {
   "attachments": {},
   "cell_type": "markdown",
   "metadata": {},
   "source": [
    "# ICA"
   ]
  },
  {
   "attachments": {},
   "cell_type": "markdown",
   "metadata": {},
   "source": [
    "## Window Size"
   ]
  },
  {
   "cell_type": "code",
   "execution_count": 7,
   "metadata": {},
   "outputs": [
    {
     "name": "stdout",
     "output_type": "stream",
     "text": [
      "                     mean       std       mse       mae\n",
      "grid1 & ica_avg -0.027312  0.075254  0.006409  0.066579\n",
      "                     mean       std       mse       mae\n",
      "grid1 & ica_avg -0.026059  0.046411  0.002833  0.039871\n",
      "                    mean       std       mse       mae\n",
      "grid1 & ica_avg -0.27807  0.825467  0.758719  0.317251\n",
      "                     mean       std       mse       mae\n",
      "grid1 & ica_avg -0.561387  0.907933  1.139498  0.571325\n",
      "                     mean       std       mse       mae\n",
      "grid1 & ica_avg -0.573179  0.877328  1.098238  0.579581\n",
      "                     mean       std      mse       mae\n",
      "grid1 & ica_avg -0.539362  0.871045  1.04963  0.577187\n",
      "                     mean       std       mse       mae\n",
      "grid1 & ica_avg -0.882061  1.112745  2.016234  0.890967\n",
      "                     mean       std       mse       mae\n",
      "grid1 & ica_avg -0.840634  1.175795  2.089159  0.896281\n",
      "                     mean       std       mse       mae\n",
      "grid1 & ica_avg -0.851802  1.131798  2.006532  0.892643\n",
      "                     mean       std       mse       mae\n",
      "grid1 & ica_avg -0.832178  1.104816  1.913138  0.888284\n"
     ]
    }
   ],
   "source": [
    "for i in range(10):\n",
    "    tf = transforms.Compose([RollingNormalize(10*(i+1))])\n",
    "    results = get_results(info, data_handler, model_handler, ['grid1'], ['ica_avg'], transform=tf)\n",
    "    df = get_evaluation_df(results)\n",
    "    print(df)"
   ]
  },
  {
   "attachments": {},
   "cell_type": "markdown",
   "metadata": {},
   "source": [
    "## Advanced Detrend"
   ]
  },
  {
   "cell_type": "code",
   "execution_count": 8,
   "metadata": {},
   "outputs": [
    {
     "name": "stdout",
     "output_type": "stream",
     "text": [
      "                     mean      std    mse       mae\n",
      "grid1 & ica_avg -0.583333  0.96681  1.275  0.583333\n"
     ]
    }
   ],
   "source": [
    "results = get_results(info, data_handler, model_handler, ['grid1'], ['ica_avg'])\n",
    "df = get_evaluation_df(results)\n",
    "print(df)"
   ]
  },
  {
   "attachments": {},
   "cell_type": "markdown",
   "metadata": {},
   "source": [
    "# Multi-region"
   ]
  },
  {
   "cell_type": "code",
   "execution_count": 9,
   "metadata": {},
   "outputs": [
    {
     "name": "stdout",
     "output_type": "stream",
     "text": [
      "                          mean           std           mse           mae\n",
      "grid25 & ica_avg -7.947286e-09  5.271633e-08  2.842171e-15  3.973643e-08\n",
      "grid25 & ica_med -7.947286e-09  5.271633e-08  2.842171e-15  3.973643e-08\n",
      "mesh & ica_avg   -2.582868e-08  5.030230e-08  3.197442e-15  4.967054e-08\n",
      "mesh & ica_med   -2.582868e-08  5.030230e-08  3.197442e-15  4.967054e-08\n"
     ]
    }
   ],
   "source": [
    "results = get_results(info, data_handler, model_handler, ['grid25', 'mesh'], ['ica_avg', 'ica_med'])\n",
    "df = get_evaluation_df(results)\n",
    "print(df)"
   ]
  },
  {
   "attachments": {},
   "cell_type": "markdown",
   "metadata": {},
   "source": [
    "# Neural Networks"
   ]
  },
  {
   "attachments": {},
   "cell_type": "markdown",
   "metadata": {},
   "source": [
    "## NN"
   ]
  },
  {
   "cell_type": "code",
   "execution_count": 10,
   "metadata": {},
   "outputs": [
    {
     "name": "stdout",
     "output_type": "stream",
     "text": [
      "                   mean           std           mse           mae\n",
      "mesh & nn -2.582868e-08  5.030230e-08  3.197442e-15  4.967054e-08\n"
     ]
    }
   ],
   "source": [
    "results = get_results(info, data_handler, model_handler, ['mesh'], ['nn'])\n",
    "df = get_evaluation_df(results)\n",
    "print(df)"
   ]
  },
  {
   "attachments": {},
   "cell_type": "markdown",
   "metadata": {},
   "source": [
    "# Resnet + RNN"
   ]
  },
  {
   "cell_type": "code",
   "execution_count": 11,
   "metadata": {},
   "outputs": [
    {
     "name": "stdout",
     "output_type": "stream",
     "text": [
      "                   mean       std       mse       mae\n",
      "mesh & resnet  0.065547  0.173508  0.034401  0.143485\n",
      "mesh & rnn     0.044968  0.748756  0.562658  0.668171\n"
     ]
    }
   ],
   "source": [
    "results = get_results(info, data_handler, model_handler, ['mesh'], ['resnet', 'rnn', 'tresnet', 'trnn'])\n",
    "df = get_evaluation_df(results)\n",
    "print(df)"
   ]
  },
  {
   "attachments": {},
   "cell_type": "markdown",
   "metadata": {},
   "source": [
    "## Resnet + RNN (with detrend)"
   ]
  },
  {
   "cell_type": "code",
   "execution_count": 12,
   "metadata": {},
   "outputs": [
    {
     "ename": "TypeError",
     "evalue": "'NoneType' object is not callable",
     "output_type": "error",
     "traceback": [
      "\u001b[0;31m---------------------------------------------------------------------------\u001b[0m",
      "\u001b[0;31mTypeError\u001b[0m                                 Traceback (most recent call last)",
      "Cell \u001b[0;32mIn[12], line 1\u001b[0m\n\u001b[0;32m----> 1\u001b[0m results \u001b[39m=\u001b[39m get_results(info, data_handler, model_handler, [\u001b[39m'\u001b[39;49m\u001b[39mmesh\u001b[39;49m\u001b[39m'\u001b[39;49m], [\u001b[39m'\u001b[39;49m\u001b[39mtresnet\u001b[39;49m\u001b[39m'\u001b[39;49m, \u001b[39m'\u001b[39;49m\u001b[39mtrnn\u001b[39;49m\u001b[39m'\u001b[39;49m])\n\u001b[1;32m      2\u001b[0m df \u001b[39m=\u001b[39m get_evaluation_df(results)\n\u001b[1;32m      3\u001b[0m \u001b[39mprint\u001b[39m(df)\n",
      "File \u001b[0;32m~/Desktop/RPPG/src/utils/evaluation.py:31\u001b[0m, in \u001b[0;36mget_results\u001b[0;34m(project_info, data_handler, model_handler, dataset_names, model_names, transform)\u001b[0m\n\u001b[1;32m     29\u001b[0m \u001b[39mfor\u001b[39;00m model_name \u001b[39min\u001b[39;00m model_names:\n\u001b[1;32m     30\u001b[0m     model \u001b[39m=\u001b[39m model_handler\u001b[39m.\u001b[39mload_model(model_name, pretrained\u001b[39m=\u001b[39m\u001b[39mTrue\u001b[39;00m, eval_state\u001b[39m=\u001b[39m\u001b[39mTrue\u001b[39;00m)\n\u001b[0;32m---> 31\u001b[0m     yhat, y \u001b[39m=\u001b[39m \u001b[39mzip\u001b[39m(\u001b[39m*\u001b[39m[(model(transform(X\u001b[39m.\u001b[39mtype(torch\u001b[39m.\u001b[39mfloat))), hr_predict(y))\n\u001b[1;32m     32\u001b[0m             \u001b[39mfor\u001b[39;00m X, y \n\u001b[1;32m     33\u001b[0m             \u001b[39min\u001b[39;00m data_loader\n\u001b[1;32m     34\u001b[0m             ])\n\u001b[1;32m     35\u001b[0m     yhat \u001b[39m=\u001b[39m torch\u001b[39m.\u001b[39mtensor(\u001b[39mlist\u001b[39m(yhat))\u001b[39m.\u001b[39mnumpy()\n\u001b[1;32m     36\u001b[0m     y \u001b[39m=\u001b[39m torch\u001b[39m.\u001b[39mtensor(\u001b[39mlist\u001b[39m(y))\u001b[39m.\u001b[39mnumpy()\n",
      "File \u001b[0;32m~/Desktop/RPPG/src/utils/evaluation.py:31\u001b[0m, in \u001b[0;36m<listcomp>\u001b[0;34m(.0)\u001b[0m\n\u001b[1;32m     29\u001b[0m \u001b[39mfor\u001b[39;00m model_name \u001b[39min\u001b[39;00m model_names:\n\u001b[1;32m     30\u001b[0m     model \u001b[39m=\u001b[39m model_handler\u001b[39m.\u001b[39mload_model(model_name, pretrained\u001b[39m=\u001b[39m\u001b[39mTrue\u001b[39;00m, eval_state\u001b[39m=\u001b[39m\u001b[39mTrue\u001b[39;00m)\n\u001b[0;32m---> 31\u001b[0m     yhat, y \u001b[39m=\u001b[39m \u001b[39mzip\u001b[39m(\u001b[39m*\u001b[39m[(model(transform(X\u001b[39m.\u001b[39;49mtype(torch\u001b[39m.\u001b[39;49mfloat))), hr_predict(y))\n\u001b[1;32m     32\u001b[0m             \u001b[39mfor\u001b[39;00m X, y \n\u001b[1;32m     33\u001b[0m             \u001b[39min\u001b[39;00m data_loader\n\u001b[1;32m     34\u001b[0m             ])\n\u001b[1;32m     35\u001b[0m     yhat \u001b[39m=\u001b[39m torch\u001b[39m.\u001b[39mtensor(\u001b[39mlist\u001b[39m(yhat))\u001b[39m.\u001b[39mnumpy()\n\u001b[1;32m     36\u001b[0m     y \u001b[39m=\u001b[39m torch\u001b[39m.\u001b[39mtensor(\u001b[39mlist\u001b[39m(y))\u001b[39m.\u001b[39mnumpy()\n",
      "\u001b[0;31mTypeError\u001b[0m: 'NoneType' object is not callable"
     ]
    }
   ],
   "source": [
    "results = get_results(info, data_handler, model_handler, ['mesh'], ['tresnet', 'trnn'])\n",
    "df = get_evaluation_df(results)\n",
    "print(df)"
   ]
  },
  {
   "cell_type": "code",
   "execution_count": null,
   "metadata": {},
   "outputs": [
    {
     "name": "stdout",
     "output_type": "stream",
     "text": [
      "   Prediction  Truth\n",
      "0  198.019791  190.0\n",
      "1   99.009895   90.0\n",
      "2   39.603962   90.0\n",
      "3   39.603962  150.0\n",
      "4   99.009895   90.0\n",
      "5  198.019791  200.0\n",
      "6   79.207924   80.0\n",
      "7   99.009895  100.0\n",
      "8  237.623764  230.0\n",
      "9  158.415848  150.0\n"
     ]
    },
    {
     "data": {
      "image/png": "[encoded data removed]",
      "text/plain": [
       "<Figure size 640x480 with 1 Axes>"
      ]
     },
     "metadata": {},
     "output_type": "display_data"
    }
   ],
   "source": [
    "for dataset_name, model_name, yhat, y in results:\n",
    "    y *= 60\n",
    "    yhat *= 60\n",
    "    df = pd.DataFrame({'Prediction' : yhat, 'Truth' : y})\n",
    "    print(df)\n",
    "    plt_relation(yhat, y)\n",
    "    plt.show()"
   ]
  },
  {
   "cell_type": "code",
   "execution_count": null,
   "metadata": {},
   "outputs": [],
   "source": [
    "warnings.filterwarnings(\"always\")"
   ]
  }
 ],
 "metadata": {
  "kernelspec": {
   "display_name": "Python 3",
   "language": "python",
   "name": "python3"
  },
  "language_info": {
   "codemirror_mode": {
    "name": "ipython",
    "version": 3
   },
   "file_extension": ".py",
   "mimetype": "text/x-python",
   "name": "python",
   "nbconvert_exporter": "python",
   "pygments_lexer": "ipython3",
   "version": "3.10.6"
  },
  "orig_nbformat": 4
 },
 "nbformat": 4,
 "nbformat_minor": 2
}
